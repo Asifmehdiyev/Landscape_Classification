{
  "nbformat": 4,
  "nbformat_minor": 0,
  "metadata": {
    "colab": {
      "name": "Python_Week11_HW",
      "provenance": []
    },
    "kernelspec": {
      "name": "python3",
      "display_name": "Python 3"
    },
    "language_info": {
      "name": "python"
    }
  },
  "cells": [
    {
      "cell_type": "code",
      "execution_count": null,
      "metadata": {
        "id": "gnhOd1CvMpNM"
      },
      "outputs": [],
      "source": [
        "#/content/drive/MyDrive/Data"
      ]
    },
    {
      "cell_type": "markdown",
      "source": [
        "**Import drive in order to load datasets**"
      ],
      "metadata": {
        "id": "Aa2vZ-H1dKLB"
      }
    },
    {
      "cell_type": "code",
      "source": [
        "from google.colab import drive\n",
        "drive.mount('/content/drive')"
      ],
      "metadata": {
        "colab": {
          "base_uri": "https://localhost:8080/"
        },
        "id": "3FH9Bt1BMrgZ",
        "outputId": "223619d6-e484-4aff-bfec-f6ff5a6082f6"
      },
      "execution_count": 11,
      "outputs": [
        {
          "output_type": "stream",
          "name": "stdout",
          "text": [
            "Drive already mounted at /content/drive; to attempt to forcibly remount, call drive.mount(\"/content/drive\", force_remount=True).\n"
          ]
        }
      ]
    },
    {
      "cell_type": "code",
      "source": [
        "## Import necessary libraries part 1 ##"
      ],
      "metadata": {
        "id": "6ApPZVEAdRd_"
      },
      "execution_count": null,
      "outputs": []
    },
    {
      "cell_type": "code",
      "source": [
        "import pandas as pd\n",
        "import numpy as np\n",
        "import seaborn as sns\n",
        "import matplotlib.pyplot as plt\n",
        "import warnings"
      ],
      "metadata": {
        "id": "nHkxJUB2Nh5T"
      },
      "execution_count": 12,
      "outputs": []
    },
    {
      "cell_type": "code",
      "source": [
        "# Import necessary torch libraries for main processes"
      ],
      "metadata": {
        "id": "tH1dIQAndXHs"
      },
      "execution_count": 3,
      "outputs": []
    },
    {
      "cell_type": "code",
      "source": [
        "import torch #for using tensors\n",
        "import torch.nn as nn # creating neural network\n",
        "import torch.nn.functional as F # recallable functions like relu,sigmoid and etc.\n",
        "import torchvision # subpackage for vision models\n",
        "import torchvision.transforms as transforms # image augmentation\n",
        "import torch.optim as optim # optimisation functions like sgd, adam\n",
        "from torch.utils.data import DataLoader # creating a data loader\n",
        "from torchvision.transforms import ToTensor # converting image to tensor\n",
        "import matplotlib.pyplot as plt \n",
        "from torchvision import datasets"
      ],
      "metadata": {
        "id": "OI9pgiOyYAA4"
      },
      "execution_count": 13,
      "outputs": []
    },
    {
      "cell_type": "code",
      "source": [
        "torch.cuda.is_available()"
      ],
      "metadata": {
        "colab": {
          "base_uri": "https://localhost:8080/"
        },
        "id": "A3d2yTQeamzp",
        "outputId": "176b3205-540b-4452-ee88-9d1136047901"
      },
      "execution_count": 14,
      "outputs": [
        {
          "output_type": "execute_result",
          "data": {
            "text/plain": [
              "False"
            ]
          },
          "metadata": {},
          "execution_count": 14
        }
      ]
    },
    {
      "cell_type": "code",
      "source": [
        "batch_size=64"
      ],
      "metadata": {
        "id": "uA_7IIqDasP4"
      },
      "execution_count": 16,
      "outputs": []
    },
    {
      "cell_type": "code",
      "source": [
        "data_dir = '/content/drive/MyDrive/Data'\n",
        "    \n",
        "transform = transforms.Compose([transforms.RandomResizedCrop(150),transforms.ToTensor()])\n",
        "    \n",
        "train_set = datasets.ImageFolder(data_dir + '/seg_train',transform=transform)\n",
        "test_set = datasets.ImageFolder(data_dir + '/seg_test',transform=transform)\n",
        "\n",
        "    \n",
        "train_loader = DataLoader(train_set, batch_size=batch_size, shuffle=True)\n",
        "test_loader = DataLoader(test_set, batch_size=batch_size, shuffle=True)"
      ],
      "metadata": {
        "id": "aqpCDd6va3tY"
      },
      "execution_count": 17,
      "outputs": []
    },
    {
      "cell_type": "code",
      "source": [
        "len(train_loader)"
      ],
      "metadata": {
        "colab": {
          "base_uri": "https://localhost:8080/"
        },
        "id": "YUqnfZ2dwUDt",
        "outputId": "1bcaab04-1ad1-43c7-d07f-ab665014a58f"
      },
      "execution_count": 18,
      "outputs": [
        {
          "output_type": "execute_result",
          "data": {
            "text/plain": [
              "220"
            ]
          },
          "metadata": {},
          "execution_count": 18
        }
      ]
    },
    {
      "cell_type": "code",
      "source": [
        "data_dir"
      ],
      "metadata": {
        "colab": {
          "base_uri": "https://localhost:8080/",
          "height": 35
        },
        "id": "kr9uCe8rWM5p",
        "outputId": "11e01629-5e43-4262-91c5-c0ad4cf2124e"
      },
      "execution_count": 10,
      "outputs": [
        {
          "output_type": "execute_result",
          "data": {
            "text/plain": [
              "'/content/drive/MyDrive/Data'"
            ],
            "application/vnd.google.colaboratory.intrinsic+json": {
              "type": "string"
            }
          },
          "metadata": {},
          "execution_count": 10
        }
      ]
    },
    {
      "cell_type": "code",
      "source": [
        ""
      ],
      "metadata": {
        "id": "mbvuf0JzwXeb"
      },
      "execution_count": null,
      "outputs": []
    },
    {
      "cell_type": "code",
      "source": [
        "for X,y in train_loader:\n",
        "    print(X.shape)\n",
        "    print(y)\n",
        "    break"
      ],
      "metadata": {
        "colab": {
          "base_uri": "https://localhost:8080/"
        },
        "id": "-eKmvjH0bVQp",
        "outputId": "1a8bd4fe-8072-4c93-b2bc-7964b9467b6c"
      },
      "execution_count": 19,
      "outputs": [
        {
          "output_type": "stream",
          "name": "stdout",
          "text": [
            "torch.Size([64, 3, 150, 150])\n",
            "tensor([1, 4, 4, 5, 1, 1, 3, 0, 5, 2, 4, 1, 5, 3, 4, 1, 0, 2, 4, 3, 4, 1, 4, 5,\n",
            "        4, 1, 5, 0, 3, 1, 5, 1, 5, 3, 4, 1, 0, 4, 2, 5, 1, 0, 0, 1, 3, 1, 3, 2,\n",
            "        0, 5, 4, 2, 2, 2, 4, 3, 0, 1, 2, 1, 0, 4, 4, 0])\n"
          ]
        }
      ]
    },
    {
      "cell_type": "markdown",
      "source": [
        "**Modelling**"
      ],
      "metadata": {
        "id": "-4qyQXKxdgGg"
      }
    },
    {
      "cell_type": "code",
      "source": [
        "# class NeuralNetwork(nn.Module):\n",
        "#     def __init__(self):\n",
        "#         super(NeuralNetwork, self).__init__()\n",
        "#         self.conv1 = nn.Conv2d(in_channels=1,out_channels=64,kernel_size=5,padding=2)\n",
        "#         self.conv2 = nn.Conv2d(64,128,kernel_size=5,stride=2,padding=2)\n",
        "#         self.pool = nn.MaxPool2d(2,2)\n",
        "#         self.fc1 = nn.Linear(128*7*7,512)\n",
        "#         self.fc2 = nn.Linear(512,512)\n",
        "#         self.out = nn.Linear(512,10)\n",
        "#         self.drop_out = nn.Dropout()\n",
        "#     def forward(self, X):\n",
        "#         X = self.conv1(X)\n",
        "#         X = self.conv2(X)\n",
        "#         X = self.pool(X)\n",
        "#         X = X.reshape(X.size(0), -1)\n",
        "#         X = self.drop_out(X)\n",
        "#         X = F.relu(self.fc1(X))\n",
        "#         X = F.relu(self.fc2(X))\n",
        "#         out = self.out(X)\n",
        "#         return X"
      ],
      "metadata": {
        "id": "5ubgcOxSc_jx"
      },
      "execution_count": null,
      "outputs": []
    },
    {
      "cell_type": "code",
      "source": [
        "class NeuralNetwork(nn.Module):\n",
        "    def __init__(self):\n",
        "        super(NeuralNetwork, self).__init__()\n",
        "        self.conv1 = nn.Conv2d(in_channels=3,out_channels=64,kernel_size=5,padding=2)\n",
        "        self.conv2 = nn.Conv2d(64,128,kernel_size=5,stride=2,padding=2)\n",
        "        self.pool = nn.MaxPool2d(2,2)\n",
        "        self.fc1 = nn.Linear(128*37*37,512)\n",
        "        self.fc2 = nn.Linear(512,512)\n",
        "        self.out = nn.Linear(512,10)\n",
        "        self.drop_out = nn.Dropout()\n",
        "    def forward(self, X):\n",
        "        X = self.conv1(X)\n",
        "        X = self.conv2(X)\n",
        "        X = self.pool(X)\n",
        "        X = X.reshape(X.size(0), -1)\n",
        "        # X = self.drop_out(X)\n",
        "        X = F.relu(self.fc1(X))\n",
        "        X = F.relu(self.fc2(X))\n",
        "        out = self.out(X)\n",
        "        return X"
      ],
      "metadata": {
        "id": "dJBdwZ034L2J"
      },
      "execution_count": 30,
      "outputs": []
    },
    {
      "cell_type": "code",
      "source": [
        "(28-5+2*2)/2+1"
      ],
      "metadata": {
        "colab": {
          "base_uri": "https://localhost:8080/"
        },
        "id": "OKnuAVn9e-CV",
        "outputId": "44229947-229b-4b2c-afb7-c8a7bbf4400b"
      },
      "execution_count": 31,
      "outputs": [
        {
          "output_type": "execute_result",
          "data": {
            "text/plain": [
              "14.5"
            ]
          },
          "metadata": {},
          "execution_count": 31
        }
      ]
    },
    {
      "cell_type": "code",
      "source": [
        "model = NeuralNetwork()\n",
        "# defining model"
      ],
      "metadata": {
        "id": "MqVIa09zfJ6X"
      },
      "execution_count": 32,
      "outputs": []
    },
    {
      "cell_type": "code",
      "source": [
        "num_epochs = 6\n",
        "num_classes = 10\n",
        "learning_rate = 0.001"
      ],
      "metadata": {
        "id": "469kvncLfNTP"
      },
      "execution_count": 33,
      "outputs": []
    },
    {
      "cell_type": "code",
      "source": [
        "# Loss and optimizer\n",
        "criterion = nn.CrossEntropyLoss()\n",
        "optimizer = torch.optim.Adam(model.parameters(), lr = learning_rate)"
      ],
      "metadata": {
        "id": "JMxqcwIAfZvV"
      },
      "execution_count": 34,
      "outputs": []
    },
    {
      "cell_type": "code",
      "source": [
        "# Train the model\n",
        "model.train()\n",
        "total_step = len(train_loader)\n",
        "loss_list = []\n",
        "acc_list = []\n",
        "for epoch in range(num_epochs):\n",
        "    for i, (images, labels) in enumerate(train_loader):\n",
        "        # Run the forward pass\n",
        "        outputs = model(images)\n",
        "        loss = criterion(outputs, labels)\n",
        "        loss_list.append(loss.item())\n",
        "\n",
        "        # Backprop and perform Adam optimisation\n",
        "        optimizer.zero_grad()\n",
        "        loss.backward()\n",
        "        optimizer.step()\n",
        "\n",
        "        # Track the accuracy\n",
        "        total = labels.size(0)\n",
        "        _, predicted = torch.max(outputs.data, 1)\n",
        "        correct = (predicted == labels).sum().item()\n",
        "        acc_list.append(correct / total)\n",
        "\n",
        "        if (i + 1) % 100 == 0:\n",
        "            print('Epoch [{}/{}], Step [{}/{}], Loss: {:.4f}, Accuracy: {:.2f}%'\n",
        "                  .format(epoch + 1, num_epochs, i + 1, total_step, loss.item(),\n",
        "                          (correct / total) * 100))"
      ],
      "metadata": {
        "colab": {
          "base_uri": "https://localhost:8080/"
        },
        "id": "ig24R0J3fqpo",
        "outputId": "1dc8aa20-3919-4f53-89d2-3ac767716fc0"
      },
      "execution_count": 35,
      "outputs": [
        {
          "output_type": "stream",
          "name": "stdout",
          "text": [
            "Epoch [1/6], Step [100/220], Loss: 4.8636, Accuracy: 28.12%\n",
            "Epoch [1/6], Step [200/220], Loss: 4.9983, Accuracy: 25.00%\n",
            "Epoch [2/6], Step [100/220], Loss: 1.9706, Accuracy: 46.88%\n",
            "Epoch [2/6], Step [200/220], Loss: 1.7621, Accuracy: 59.38%\n",
            "Epoch [3/6], Step [100/220], Loss: 1.9933, Accuracy: 53.12%\n",
            "Epoch [3/6], Step [200/220], Loss: 1.8028, Accuracy: 54.69%\n",
            "Epoch [4/6], Step [100/220], Loss: 2.1621, Accuracy: 56.25%\n",
            "Epoch [4/6], Step [200/220], Loss: 2.2402, Accuracy: 54.69%\n",
            "Epoch [5/6], Step [100/220], Loss: 2.2747, Accuracy: 51.56%\n",
            "Epoch [5/6], Step [200/220], Loss: 1.4423, Accuracy: 67.19%\n",
            "Epoch [6/6], Step [100/220], Loss: 2.0428, Accuracy: 59.38%\n",
            "Epoch [6/6], Step [200/220], Loss: 1.7008, Accuracy: 62.50%\n"
          ]
        }
      ]
    },
    {
      "cell_type": "code",
      "source": [
        "model.eval()\n",
        "with torch.no_grad():\n",
        "    correct = 0\n",
        "    total = 0\n",
        "    for images, labels in test_loader:\n",
        "        outputs = model(images)\n",
        "        _, predicted = torch.max(outputs.data, 1)\n",
        "        total += labels.size(0)\n",
        "        correct += (predicted == labels).sum().item()\n",
        "\n",
        "    print('Test Accuracy of the model on the 10000 test images: {} %'.format((correct / total) * 100))"
      ],
      "metadata": {
        "id": "Lf3odDywfysC",
        "colab": {
          "base_uri": "https://localhost:8080/"
        },
        "outputId": "389844f4-a0fe-49ba-da14-a035a34e34fe"
      },
      "execution_count": 36,
      "outputs": [
        {
          "output_type": "stream",
          "name": "stdout",
          "text": [
            "Test Accuracy of the model on the 10000 test images: 59.827070169604255 %\n"
          ]
        }
      ]
    },
    {
      "cell_type": "code",
      "source": [
        "from bokeh.plotting import figure\n",
        "from bokeh.io import show"
      ],
      "metadata": {
        "id": "XAYUzFYtk7Ms"
      },
      "execution_count": 40,
      "outputs": []
    },
    {
      "cell_type": "code",
      "source": [
        "from bokeh.models import LinearAxis, Range1d"
      ],
      "metadata": {
        "id": "13bqmHBxpuoP"
      },
      "execution_count": 43,
      "outputs": []
    },
    {
      "cell_type": "code",
      "source": [
        ""
      ],
      "metadata": {
        "id": "N2-kk15frrwK"
      },
      "execution_count": null,
      "outputs": []
    }
  ]
}